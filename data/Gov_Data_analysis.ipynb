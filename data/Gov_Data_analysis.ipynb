{
 "cells": [
  {
   "cell_type": "markdown",
   "id": "fd93928f03981148",
   "metadata": {},
   "source": [
    "### - **Author : Joris LAMAILLARD-NOIREN**\n",
    "### - **Email : joris.larmaillard--noiren@efrei.net**\n",
    "### - **Date : Monday, September 16th of 2024**"
   ]
  },
  {
   "cell_type": "markdown",
   "id": "c03bdc35693c2d0f",
   "metadata": {},
   "source": [
    "# Introduction\n",
    "\n",
    "This notebook is designed to explore and analyze the dataset at hand in order to identify key trends and insights. Initially, we will focus on examining the structure and contents of the data, ensuring we understand the types of information available and their potential value. This exploration phase will help us determine which visualizations and plots are most suitable for showcasing relevant patterns.\n",
    "\n",
    "By carefully inspecting the dataset, we aim to highlight the most interesting variables and relationships, guiding us toward more meaningful and impactful data visualizations later on."
   ]
  },
  {
   "cell_type": "markdown",
   "id": "dc8ed2b5fe3220ab",
   "metadata": {},
   "source": [
    "# Data Analysis"
   ]
  },
  {
   "cell_type": "code",
   "id": "87834668e7fea8cf",
   "metadata": {
    "ExecuteTime": {
     "end_time": "2024-10-19T23:15:21.618365Z",
     "start_time": "2024-10-19T23:15:20.419637Z"
    }
   },
   "source": [
    "### Module importation ###\n",
    "\n",
    "import pandas as pd\n",
    "import numpy as np\n",
    "import matplotlib.pyplot as plt\n",
    "import plotly.express as px\n",
    "import plotly.graph_objects as go\n",
    "import prince\n",
    "from prince import ca, mca\n",
    "import folium"
   ],
   "outputs": [],
   "execution_count": 1
  },
  {
   "cell_type": "code",
   "id": "65e948ad9a69baf6",
   "metadata": {
    "ExecuteTime": {
     "end_time": "2024-10-19T23:15:22.289353Z",
     "start_time": "2024-10-19T23:15:22.143724Z"
    }
   },
   "source": [
    "### Data importation ###\n",
    "\n",
    "df = pd.read_csv('prix-des-carburants-en-france-flux-instantane-v2.csv', delimiter=';')\n",
    "\n",
    "\n",
    "df.head()"
   ],
   "outputs": [
    {
     "data": {
      "text/plain": [
       "         id      latitude      longitude     cp pop  \\\n",
       "0  25115001  4.725800e+06  592700.000000  25115   R   \n",
       "1  89100001  4.818300e+06  330900.000000  89100   R   \n",
       "2  19300002  4.540200e+06  204200.000000  19300   R   \n",
       "3  13380002  4.334100e+06  545700.000000  13380   R   \n",
       "4  54260003  4.943169e+06  561589.826094  54260   R   \n",
       "\n",
       "                      adresse                ville  \\\n",
       "0            Z.A. les Salines  Pouilley-les-Vignes   \n",
       "1         84 ROUTE DE MAILLOT                 Sens   \n",
       "2    Avenue Charles de Gaulle             Égletons   \n",
       "3  89 AVENUE DE LA LIBERATION       Plan-de-Cuques   \n",
       "4             ROUTE D'ARRANCY             Longuyon   \n",
       "\n",
       "                                            services  \\\n",
       "0  {\"service\": [\"Toilettes publiques\", \"Laverie\",...   \n",
       "1  {\"service\": [\"Toilettes publiques\", \"Location ...   \n",
       "2  {\"service\": [\"Toilettes publiques\", \"Boutique ...   \n",
       "3                                                NaN   \n",
       "4  {\"service\": [\"Station de gonflage\", \"Carburant...   \n",
       "\n",
       "                                                prix  \\\n",
       "0  [{\"@nom\": \"Gazole\", \"@id\": \"1\", \"@maj\": \"2024-...   \n",
       "1  [{\"@nom\": \"Gazole\", \"@id\": \"1\", \"@maj\": \"2024-...   \n",
       "2  [{\"@nom\": \"Gazole\", \"@id\": \"1\", \"@maj\": \"2024-...   \n",
       "3  [{\"@nom\": \"Gazole\", \"@id\": \"1\", \"@maj\": \"2024-...   \n",
       "4  [{\"@nom\": \"Gazole\", \"@id\": \"1\", \"@maj\": \"2024-...   \n",
       "\n",
       "                                             rupture  ...  \\\n",
       "0  [{\"@nom\": \"GPLc\", \"@id\": \"4\", \"@debut\": \"2018-...  ...   \n",
       "1  [{\"@nom\": \"GPLc\", \"@id\": \"4\", \"@debut\": \"2023-...  ...   \n",
       "2  [{\"@nom\": \"SP95\", \"@id\": \"2\", \"@debut\": \"2017-...  ...   \n",
       "3  {\"@nom\": \"SP95\", \"@id\": \"2\", \"@debut\": \"2011-0...  ...   \n",
       "4  [{\"@nom\": \"SP95\", \"@id\": \"2\", \"@debut\": \"2018-...  ...   \n",
       "\n",
       "  carburants_indisponibles carburants_rupture_temporaire  \\\n",
       "0                 GPLc,E10                           NaN   \n",
       "1                SP95,GPLc                           NaN   \n",
       "2            SP95,E85,GPLc                           NaN   \n",
       "3                SP95,GPLc                           NaN   \n",
       "4           SP95,GPLc,SP98                           NaN   \n",
       "\n",
       "  carburants_rupture_definitive  horaires_automate_24_24  \\\n",
       "0                      GPLc;E10                      Oui   \n",
       "1                     SP95;GPLc                      Non   \n",
       "2                 SP95;E85;GPLc                      Non   \n",
       "3                           NaN                      Non   \n",
       "4                SP95;GPLc;SP98                      Oui   \n",
       "\n",
       "                                    services_service         departement  \\\n",
       "0  Toilettes publiques,Laverie,Relais colis,Stati...               Doubs   \n",
       "1  Toilettes publiques,Location de véhicule,Vente...               Yonne   \n",
       "2  Toilettes publiques,Boutique alimentaire,Bouti...             Corrèze   \n",
       "3                                                NaN    Bouches-du-Rhône   \n",
       "4  Station de gonflage,Carburant additivé,Piste p...  Meurthe-et-Moselle   \n",
       "\n",
       "  code_departement                      region code_region  \\\n",
       "0               25     Bourgogne-Franche-Comté        27.0   \n",
       "1               89     Bourgogne-Franche-Comté        27.0   \n",
       "2               19          Nouvelle-Aquitaine        75.0   \n",
       "3               13  Provence-Alpes-Côte d'Azur        93.0   \n",
       "4               54                   Grand Est        44.0   \n",
       "\n",
       "                                       horaires_jour  \n",
       "0                                     Automate-24-24  \n",
       "1                                                NaN  \n",
       "2                                                NaN  \n",
       "3                                                NaN  \n",
       "4  Automate-24-24, Lundi01.00-01.00, Mardi01.00-0...  \n",
       "\n",
       "[5 rows x 47 columns]"
      ],
      "text/html": [
       "<div>\n",
       "<style scoped>\n",
       "    .dataframe tbody tr th:only-of-type {\n",
       "        vertical-align: middle;\n",
       "    }\n",
       "\n",
       "    .dataframe tbody tr th {\n",
       "        vertical-align: top;\n",
       "    }\n",
       "\n",
       "    .dataframe thead th {\n",
       "        text-align: right;\n",
       "    }\n",
       "</style>\n",
       "<table border=\"1\" class=\"dataframe\">\n",
       "  <thead>\n",
       "    <tr style=\"text-align: right;\">\n",
       "      <th></th>\n",
       "      <th>id</th>\n",
       "      <th>latitude</th>\n",
       "      <th>longitude</th>\n",
       "      <th>cp</th>\n",
       "      <th>pop</th>\n",
       "      <th>adresse</th>\n",
       "      <th>ville</th>\n",
       "      <th>services</th>\n",
       "      <th>prix</th>\n",
       "      <th>rupture</th>\n",
       "      <th>...</th>\n",
       "      <th>carburants_indisponibles</th>\n",
       "      <th>carburants_rupture_temporaire</th>\n",
       "      <th>carburants_rupture_definitive</th>\n",
       "      <th>horaires_automate_24_24</th>\n",
       "      <th>services_service</th>\n",
       "      <th>departement</th>\n",
       "      <th>code_departement</th>\n",
       "      <th>region</th>\n",
       "      <th>code_region</th>\n",
       "      <th>horaires_jour</th>\n",
       "    </tr>\n",
       "  </thead>\n",
       "  <tbody>\n",
       "    <tr>\n",
       "      <th>0</th>\n",
       "      <td>25115001</td>\n",
       "      <td>4.725800e+06</td>\n",
       "      <td>592700.000000</td>\n",
       "      <td>25115</td>\n",
       "      <td>R</td>\n",
       "      <td>Z.A. les Salines</td>\n",
       "      <td>Pouilley-les-Vignes</td>\n",
       "      <td>{\"service\": [\"Toilettes publiques\", \"Laverie\",...</td>\n",
       "      <td>[{\"@nom\": \"Gazole\", \"@id\": \"1\", \"@maj\": \"2024-...</td>\n",
       "      <td>[{\"@nom\": \"GPLc\", \"@id\": \"4\", \"@debut\": \"2018-...</td>\n",
       "      <td>...</td>\n",
       "      <td>GPLc,E10</td>\n",
       "      <td>NaN</td>\n",
       "      <td>GPLc;E10</td>\n",
       "      <td>Oui</td>\n",
       "      <td>Toilettes publiques,Laverie,Relais colis,Stati...</td>\n",
       "      <td>Doubs</td>\n",
       "      <td>25</td>\n",
       "      <td>Bourgogne-Franche-Comté</td>\n",
       "      <td>27.0</td>\n",
       "      <td>Automate-24-24</td>\n",
       "    </tr>\n",
       "    <tr>\n",
       "      <th>1</th>\n",
       "      <td>89100001</td>\n",
       "      <td>4.818300e+06</td>\n",
       "      <td>330900.000000</td>\n",
       "      <td>89100</td>\n",
       "      <td>R</td>\n",
       "      <td>84 ROUTE DE MAILLOT</td>\n",
       "      <td>Sens</td>\n",
       "      <td>{\"service\": [\"Toilettes publiques\", \"Location ...</td>\n",
       "      <td>[{\"@nom\": \"Gazole\", \"@id\": \"1\", \"@maj\": \"2024-...</td>\n",
       "      <td>[{\"@nom\": \"GPLc\", \"@id\": \"4\", \"@debut\": \"2023-...</td>\n",
       "      <td>...</td>\n",
       "      <td>SP95,GPLc</td>\n",
       "      <td>NaN</td>\n",
       "      <td>SP95;GPLc</td>\n",
       "      <td>Non</td>\n",
       "      <td>Toilettes publiques,Location de véhicule,Vente...</td>\n",
       "      <td>Yonne</td>\n",
       "      <td>89</td>\n",
       "      <td>Bourgogne-Franche-Comté</td>\n",
       "      <td>27.0</td>\n",
       "      <td>NaN</td>\n",
       "    </tr>\n",
       "    <tr>\n",
       "      <th>2</th>\n",
       "      <td>19300002</td>\n",
       "      <td>4.540200e+06</td>\n",
       "      <td>204200.000000</td>\n",
       "      <td>19300</td>\n",
       "      <td>R</td>\n",
       "      <td>Avenue Charles de Gaulle</td>\n",
       "      <td>Égletons</td>\n",
       "      <td>{\"service\": [\"Toilettes publiques\", \"Boutique ...</td>\n",
       "      <td>[{\"@nom\": \"Gazole\", \"@id\": \"1\", \"@maj\": \"2024-...</td>\n",
       "      <td>[{\"@nom\": \"SP95\", \"@id\": \"2\", \"@debut\": \"2017-...</td>\n",
       "      <td>...</td>\n",
       "      <td>SP95,E85,GPLc</td>\n",
       "      <td>NaN</td>\n",
       "      <td>SP95;E85;GPLc</td>\n",
       "      <td>Non</td>\n",
       "      <td>Toilettes publiques,Boutique alimentaire,Bouti...</td>\n",
       "      <td>Corrèze</td>\n",
       "      <td>19</td>\n",
       "      <td>Nouvelle-Aquitaine</td>\n",
       "      <td>75.0</td>\n",
       "      <td>NaN</td>\n",
       "    </tr>\n",
       "    <tr>\n",
       "      <th>3</th>\n",
       "      <td>13380002</td>\n",
       "      <td>4.334100e+06</td>\n",
       "      <td>545700.000000</td>\n",
       "      <td>13380</td>\n",
       "      <td>R</td>\n",
       "      <td>89 AVENUE DE LA LIBERATION</td>\n",
       "      <td>Plan-de-Cuques</td>\n",
       "      <td>NaN</td>\n",
       "      <td>[{\"@nom\": \"Gazole\", \"@id\": \"1\", \"@maj\": \"2024-...</td>\n",
       "      <td>{\"@nom\": \"SP95\", \"@id\": \"2\", \"@debut\": \"2011-0...</td>\n",
       "      <td>...</td>\n",
       "      <td>SP95,GPLc</td>\n",
       "      <td>NaN</td>\n",
       "      <td>NaN</td>\n",
       "      <td>Non</td>\n",
       "      <td>NaN</td>\n",
       "      <td>Bouches-du-Rhône</td>\n",
       "      <td>13</td>\n",
       "      <td>Provence-Alpes-Côte d'Azur</td>\n",
       "      <td>93.0</td>\n",
       "      <td>NaN</td>\n",
       "    </tr>\n",
       "    <tr>\n",
       "      <th>4</th>\n",
       "      <td>54260003</td>\n",
       "      <td>4.943169e+06</td>\n",
       "      <td>561589.826094</td>\n",
       "      <td>54260</td>\n",
       "      <td>R</td>\n",
       "      <td>ROUTE D'ARRANCY</td>\n",
       "      <td>Longuyon</td>\n",
       "      <td>{\"service\": [\"Station de gonflage\", \"Carburant...</td>\n",
       "      <td>[{\"@nom\": \"Gazole\", \"@id\": \"1\", \"@maj\": \"2024-...</td>\n",
       "      <td>[{\"@nom\": \"SP95\", \"@id\": \"2\", \"@debut\": \"2018-...</td>\n",
       "      <td>...</td>\n",
       "      <td>SP95,GPLc,SP98</td>\n",
       "      <td>NaN</td>\n",
       "      <td>SP95;GPLc;SP98</td>\n",
       "      <td>Oui</td>\n",
       "      <td>Station de gonflage,Carburant additivé,Piste p...</td>\n",
       "      <td>Meurthe-et-Moselle</td>\n",
       "      <td>54</td>\n",
       "      <td>Grand Est</td>\n",
       "      <td>44.0</td>\n",
       "      <td>Automate-24-24, Lundi01.00-01.00, Mardi01.00-0...</td>\n",
       "    </tr>\n",
       "  </tbody>\n",
       "</table>\n",
       "<p>5 rows × 47 columns</p>\n",
       "</div>"
      ]
     },
     "execution_count": 2,
     "metadata": {},
     "output_type": "execute_result"
    }
   ],
   "execution_count": 2
  },
  {
   "cell_type": "markdown",
   "id": "e8b26ca0-bf29-4154-8471-a8d31c5867d7",
   "metadata": {},
   "source": [
    "In order to analyse the data correctly, we'll divide the dataset into several different sets.\n",
    "A subset of the dataset will be linked to a specific piece of information we wish to analyse. To do this, we'll first perform a preliminary data cleansing (on the dataset as a whole), then we'll go through the datasets"
   ]
  },
  {
   "cell_type": "markdown",
   "id": "d8532600-520d-4643-ae66-e29202889d08",
   "metadata": {},
   "source": [
    "We will have the following subsets of data:\n",
    "- df_price: fuel price analysis\n",
    "    * Visualize price trends in different regions or cities, compare prices by fuel type, or analyze the impact of price fluctuations over specific periods.\n",
    "- df_geo: geographical analysis\n",
    "    * Explore regional or local disparities in fuel availability and prices.\n",
    "- df_shortage: fuel availability and outage management\n",
    "    * Analyze the frequency and duration of fuel unavailability\n",
    "- df_availability: General fuel availability\n",
    "    * Comparative analysis of fuel availability and non-availability"
   ]
  },
  {
   "cell_type": "code",
   "id": "35a673bb-c61d-42ca-aebd-1b8a2275948b",
   "metadata": {
    "ExecuteTime": {
     "end_time": "2024-10-19T23:15:25.576325Z",
     "start_time": "2024-10-19T23:15:25.569006Z"
    }
   },
   "source": [
    "df = df.drop(columns=['horaires', 'horaires_automate_24_24', 'horaires_jour', 'services', 'services_service'])"
   ],
   "outputs": [],
   "execution_count": 3
  },
  {
   "cell_type": "markdown",
   "id": "ef80ecc236394e1b",
   "metadata": {},
   "source": [
    "### **Prices analysis**"
   ]
  },
  {
   "cell_type": "code",
   "id": "0fe5114c-9409-460d-bb18-682ea71283cb",
   "metadata": {},
   "source": [
    "df_price = df[['cp', 'ville', 'latitude', 'longitude', 'departement', 'code_departement', 'geom', 'prix', 'e10_prix', 'e85_prix', 'sp95_prix', 'sp98_prix', 'gazole_prix', 'gplc_prix']]"
   ],
   "outputs": [],
   "execution_count": null
  },
  {
   "cell_type": "markdown",
   "id": "302cef843c852e84",
   "metadata": {},
   "source": [
    "Analysis of each variable distribution"
   ]
  },
  {
   "cell_type": "code",
   "id": "54e704c0f2395987",
   "metadata": {},
   "source": [
    "from ydata_profiling import ProfileReport\n",
    "\n",
    "profile = ProfileReport(df_price, title='Prices report')\n",
    "profile.to_file(\"Fuel-prices.html\")"
   ],
   "outputs": [],
   "execution_count": null
  },
  {
   "cell_type": "code",
   "id": "988711aca44b54cd",
   "metadata": {},
   "source": [
    "fig = go.Figure()\n",
    "\n",
    "fig.add_trace(go.Box(y=df_price['e10_prix'], name='E10'))\n",
    "fig.add_trace(go.Box(y=df_price['e85_prix'], name='E85'))\n",
    "fig.add_trace(go.Box(y=df_price['sp95_prix'], name='SP95'))\n",
    "fig.add_trace(go.Box(y=df_price['sp98_prix'], name='SP98'))\n",
    "fig.add_trace(go.Box(y=df_price['gazole_prix'], name='Gazole'))\n",
    "fig.add_trace(go.Box(y=df_price['gplc_prix'], name='GPLC'))\n",
    "\n",
    "fig.update_layout(\n",
    "    title='Distribution of prices',\n",
    "    yaxis_title='Prices (€)',\n",
    "    xaxis_title='Fuels type'\n",
    ")\n",
    "\n",
    "fig.show()"
   ],
   "outputs": [],
   "execution_count": null
  },
  {
   "cell_type": "markdown",
   "id": "3f6b194d7ccc06b5",
   "metadata": {},
   "source": [
    "We observe that for all fuel types there is a strong presence of outliers. Our dataset presents missing values due to several factors :\n",
    "- Some stations don't sell certain types of fuel, so fuel prices are not updated. \n",
    "- Some values are simply missing, so I think they've just not been recorded, or these outlets don't sell these fuels.\n",
    "\n",
    "Next, we'll calculate the median by department, as it's more robust for asymmetrical distributions or those containing extreme values, as in our case. For example, an isolated station with a much higher price could affect the average."
   ]
  },
  {
   "cell_type": "code",
   "id": "e1dd99dd-cde7-4dc4-8fb4-b2899facf49c",
   "metadata": {},
   "source": [
    "price_per_department = df_price.groupby(['departement', 'code_departement'])[['sp98_prix', 'sp95_prix', 'gazole_prix', 'e10_prix', 'e85_prix', 'gplc_prix']].median().reset_index()\n",
    "\n",
    "price_per_department"
   ],
   "outputs": [],
   "execution_count": null
  },
  {
   "cell_type": "code",
   "id": "69b087349bdb3eb5",
   "metadata": {},
   "source": [
    "### Transform the DataFrame so that it's compatible with histogram display\n",
    "price_per_department_melted = price_per_department.melt(id_vars=['departement', 'code_departement'], ### Columns that won't be melted -> they'll be used as index\n",
    "                                                          value_vars=['sp98_prix', 'sp95_prix', 'gazole_prix', 'e10_prix', 'e85_prix'], ### These columns will be melted into a new column\n",
    "                                                          var_name='Fuels type', \n",
    "                                                          value_name='Median Price')\n",
    "\n",
    "price_per_department_melted\n"
   ],
   "outputs": [],
   "execution_count": null
  },
  {
   "cell_type": "code",
   "id": "38686eae61ceead6",
   "metadata": {},
   "source": [
    "fig = px.bar(price_per_department_melted, \n",
    "             x='departement', \n",
    "             y='Median Price',\n",
    "             color='Fuels type',\n",
    "             barmode='group',  ### Displays the bars side by side\n",
    "             title='Median price by department',\n",
    "             labels={'departement': 'Departement', 'Median Price': 'Median Price (€/L)', 'Fuels type': 'Fuels type'})\n",
    "\n",
    "fig.show()"
   ],
   "outputs": [],
   "execution_count": null
  },
  {
   "cell_type": "markdown",
   "id": "46e75ade382a5604",
   "metadata": {},
   "source": [
    "Let's do some visualisation with our data displayed onto the French map.\n",
    "We'll use a geoson file of France in order to use a map already split by departement, and display the corresponding data to each corresponding departement.\n",
    "\n",
    "To do this, we need to display our map according to each type of fuel. We'll proceed as follows :\n",
    "- First : sp98 and sp95\n",
    "- Second : e10 and e85\n",
    "- Third : diesel\n",
    "- Fourth : gplc"
   ]
  },
  {
   "cell_type": "markdown",
   "id": "2bfb3a3c48a11bdc",
   "metadata": {},
   "source": [
    "### **Loading the geoson file**"
   ]
  },
  {
   "cell_type": "code",
   "id": "33fb436d689bde9e",
   "metadata": {},
   "source": [
    "import json\n",
    "with open('departements.geojson') as f:\n",
    "    france_departements = json.load(f)"
   ],
   "outputs": [],
   "execution_count": null
  },
  {
   "cell_type": "markdown",
   "id": "8cc12b267556a151",
   "metadata": {},
   "source": [
    "### **sp98 & sp95**"
   ]
  },
  {
   "cell_type": "code",
   "id": "7f05b69da767d576",
   "metadata": {},
   "source": [
    "from plotly.subplots import make_subplots\n",
    "\n",
    "### Creating a figure with two columns\n",
    "fig = make_subplots(rows=1, cols=2, \n",
    "                    subplot_titles=(\"SP98 Price by Department\", \"SP95 Price by Department\"),\n",
    "                    specs=[[{\"type\": \"choropleth\"}, {\"type\": \"choropleth\"}]])\n",
    "\n",
    "### sp98\n",
    "fig.add_trace(\n",
    "    px.choropleth(\n",
    "        price_per_department,\n",
    "        geojson=france_departements,\n",
    "        locations='code_departement',\n",
    "        featureidkey=\"properties.code\",\n",
    "        color='sp98_prix',\n",
    "        hover_name='departement',\n",
    "        color_continuous_scale=\"Plasma\",\n",
    "        labels={'sp98_prix': 'SP98 Price (€/L)'}\n",
    "    ).data[0],\n",
    "    row=1, col=1\n",
    ")\n",
    "\n",
    "### sp95\n",
    "fig.add_trace(\n",
    "    px.choropleth(\n",
    "        price_per_department,\n",
    "        geojson=france_departements,\n",
    "        locations='code_departement',\n",
    "        featureidkey=\"properties.code\",\n",
    "        color='sp95_prix',\n",
    "        hover_name='departement',\n",
    "        color_continuous_scale=\"Plasma\",\n",
    "        labels={'sp95_prix': 'SP95 Price (€/L)'}\n",
    "    ).data[0],\n",
    "    row=1, col=2\n",
    ")\n",
    "\n",
    "### Setting appearance and geographical boundaries\n",
    "fig.update_geos(fitbounds=\"locations\", visible=False)\n",
    "fig.update_layout(title_text=\"SP98 vs SP95 Fuel Prices by Department\", height=800)\n",
    "\n",
    "fig.show()"
   ],
   "outputs": [],
   "execution_count": null
  },
  {
   "cell_type": "markdown",
   "id": "b7b7415f790bd919",
   "metadata": {},
   "source": [
    "As we can, most of the west departements have a lower price than the rest of France, especially l'Île-de-France.\n",
    "Generally speaking, we can see that prices in France for sp98 are around 1.80€ and 1.85€ : this distribution is fairly uniform throughout the country, except for Paris, which has a median value over 1.90€ per liter.\n",
    "In the case of sp95, the average price range is between 1.70€ and 1.80€ across the country, except in Paris, where the price per liter is around 2.0€.\n",
    "\n",
    "This price difference between Paris and the rest of the country can be due to several factors:\n",
    "- Higher operating costs in Paris: high rents and property taxes, higher salaries\n",
    "- Less competition between stations in Paris: fewer large low-cost stations, supermarket stations are rare.\n",
    "- Delivery and logistics\n",
    "- Demand effect\n",
    "Fuel prices in Paris are higher due to a combination of additional costs (logistics, operations, taxes) and weaker competition. In addition, local policies and the demand effect play a role. In other regions, the presence of supermarket stations and larger supermarkets reduces prices through increased competition."
   ]
  },
  {
   "cell_type": "markdown",
   "id": "bb3f0adc4aebd96f",
   "metadata": {},
   "source": [
    "### **e10 & e85**"
   ]
  },
  {
   "cell_type": "code",
   "id": "aa119f7328dd273",
   "metadata": {},
   "source": [
    "import plotly.express as px\n",
    "from plotly.subplots import make_subplots\n",
    "\n",
    "fig = make_subplots(rows=1, cols=2, \n",
    "                    subplot_titles=(\"E10 Price by Department\", \"E85 Price by Department\"),\n",
    "                    specs=[[{\"type\": \"choropleth\"}, {\"type\": \"choropleth\"}]])\n",
    "\n",
    "### e10\n",
    "fig.add_trace(\n",
    "    px.choropleth(\n",
    "        price_per_department,\n",
    "        geojson=france_departements,\n",
    "        locations='code_departement',\n",
    "        featureidkey=\"properties.code\",\n",
    "        color='e10_prix',\n",
    "        hover_name='departement',\n",
    "        color_continuous_scale=\"Plasma\",\n",
    "        labels={'e10_prix':'E10 Price (€/L)'}\n",
    "    ).data[0],\n",
    "    row=1, col=1\n",
    ")\n",
    "\n",
    "### e85\n",
    "fig.add_trace(\n",
    "    px.choropleth(\n",
    "        price_per_department,\n",
    "        geojson=france_departements,\n",
    "        locations='code_departement',\n",
    "        featureidkey=\"properties.code\",\n",
    "        color='e85_prix',\n",
    "        hover_name='departement',\n",
    "        color_continuous_scale=\"Plasma\",\n",
    "        labels={'e85_prix':'E85 Price (€/L)'}\n",
    "    ).data[0],\n",
    "    row=1, col=2\n",
    ")\n",
    "\n",
    "fig.update_geos(fitbounds=\"locations\", visible=False)\n",
    "fig.update_layout(title_text=\"E10 vs E85 Fuel Prices by Department\", height=800)\n",
    "\n",
    "fig.show()\n"
   ],
   "outputs": [],
   "execution_count": null
  },
  {
   "cell_type": "markdown",
   "id": "49510169c17412fb",
   "metadata": {},
   "source": [
    "This case is impressive because we see a complete contrast in average prices between e10 and e85 superethanol. E10 ethanol is much more expensive nationwide, with an  average price of 1.70€, compared with 0.83€ for e85.\n",
    "However, in both cases, there is no real significant difference from one region to another: prices are fairly uniform. This may be due to the fact that there aren't as many ethanol-powered vehicles throughout the country as there are for other types of vehicle."
   ]
  },
  {
   "cell_type": "markdown",
   "id": "a76fe134b0344e34",
   "metadata": {},
   "source": [
    "### **Diesel**"
   ]
  },
  {
   "cell_type": "code",
   "id": "33f0597c16bf40df",
   "metadata": {},
   "source": [
    "fig = px.choropleth(\n",
    "    price_per_department,\n",
    "    geojson=france_departements,\n",
    "    locations='code_departement',\n",
    "    featureidkey=\"properties.code\",\n",
    "    color='gazole_prix',\n",
    "    hover_name='departement',\n",
    "    color_continuous_scale=\"Plasma\",\n",
    "    labels={'gazole_prix':'Diesel Price (€/L)'}, \n",
    "    title='Median fuel prices by department (diesel)'\n",
    ")\n",
    "\n",
    "fig.update_geos(fitbounds=\"locations\", visible=False)\n",
    "\n",
    "fig.show()"
   ],
   "outputs": [],
   "execution_count": null
  },
  {
   "cell_type": "markdown",
   "id": "c259f346b231631d",
   "metadata": {},
   "source": [
    "As we can see, the price of diesel is around 1.63€ nationwide. For Corsica and Paris, we see higher costs: around 1.75€ for Corsica, and 1.80€ for Paris."
   ]
  },
  {
   "cell_type": "markdown",
   "id": "16b5dda4366a368c",
   "metadata": {},
   "source": [
    "### **Gplc**"
   ]
  },
  {
   "cell_type": "code",
   "id": "db698a7c510b1c17",
   "metadata": {},
   "source": [
    "fig = px.choropleth(\n",
    "    price_per_department,\n",
    "    geojson=france_departements,\n",
    "    locations='code_departement',\n",
    "    featureidkey=\"properties.code\",\n",
    "    color='gplc_prix',\n",
    "    hover_name='departement',\n",
    "    color_continuous_scale=\"Plasma\",\n",
    "    labels={'gplc_prix':'GPLC Price (€/L)'}, \n",
    "    title='Median fuel prices by department (gplc)'\n",
    ")\n",
    "\n",
    "fig.update_geos(fitbounds=\"locations\",\n",
    "                visible=False)\n",
    "\n",
    "fig.show()"
   ],
   "outputs": [],
   "execution_count": null
  },
  {
   "cell_type": "markdown",
   "id": "52eb023c839b62ef",
   "metadata": {},
   "source": [
    "On average, prices in the region are around €1.0. There is no real variation in price from one département to another, except for Corsica, where the average price is around 1.30€.  This difference may be due to the cost of transporting cLPG between France and Corsica: the cost of transport is therefore included in the price per liter of cLPG."
   ]
  },
  {
   "cell_type": "markdown",
   "id": "3aa23501fb657696",
   "metadata": {},
   "source": [
    "### Geographical analysis"
   ]
  },
  {
   "cell_type": "markdown",
   "id": "df8ff45f61801630",
   "metadata": {},
   "source": [
    "In this section, we look at fuel shortages on a national scale."
   ]
  },
  {
   "cell_type": "code",
   "id": "5d43a1905e4abcd",
   "metadata": {},
   "source": [
    "df_shortage = df[['code_departement', 'departement', 'carburants_rupture_definitive']]\n",
    "\n",
    "df_shortage.head()"
   ],
   "outputs": [],
   "execution_count": null
  },
  {
   "cell_type": "code",
   "id": "6b9b20cdbcbc7551",
   "metadata": {},
   "source": [
    "dummies = df['carburants_rupture_definitive'].str.get_dummies(sep=';')\n",
    "\n",
    "df_shortage_with_dummies = pd.concat([df_shortage, dummies], axis=1)\n",
    "\n",
    "df_shortage_with_dummies"
   ],
   "outputs": [],
   "execution_count": null
  },
  {
   "cell_type": "code",
   "id": "e6a895c07d2a08db",
   "metadata": {},
   "source": [
    "shortage_per_department = df_shortage_with_dummies.groupby('code_departement')[dummies.columns].sum().reset_index()\n"
   ],
   "outputs": [],
   "execution_count": null
  },
  {
   "cell_type": "code",
   "id": "df4d32b136485bad",
   "metadata": {},
   "source": [
    "shortage_per_department"
   ],
   "outputs": [],
   "execution_count": null
  },
  {
   "cell_type": "code",
   "id": "b9c9de8bba3db5a5",
   "metadata": {},
   "source": [
    "%matplotlib inline\n",
    "\n",
    "### Initialize MCA model\n",
    "mca = prince.MCA(n_components=2)\n",
    "\n",
    "### Fit MCA model with data\n",
    "mca = mca.fit(shortage_per_department.set_index('code_departement'))\n",
    "\n",
    "### Transform the data\n",
    "mca_results = mca.transform(shortage_per_department)\n",
    "\n",
    "plt.scatter(mca_results[0], mca_results[1])\n",
    "\n",
    "plt.title('')\n",
    "plt.xlabel('Component 1')\n",
    "plt.ylabel('Component 2')\n",
    "plt.grid(True)\n",
    "plt.show()\n"
   ],
   "outputs": [],
   "execution_count": null
  },
  {
   "cell_type": "markdown",
   "id": "ce1aa11992cb2d7c",
   "metadata": {},
   "source": [
    "The vast majority of departments are centered around the origin (values close to 0 on the two main components). This indicates that they share similar characteristics in terms of permanent fuel breaks.\n",
    "Departments 62 and 12 stand out strongly from the others.\n",
    "Department 62 has a relatively distant position at the top of the graph. This could indicate that it has a specific fuel rupture profile, linked to certain types of fuel that are permanently broken. This means that Pas-de-Calais probably has a uniquely affected fuel type.\n",
    "For department 12, it is also very far along the axis of the first component, which suggests that the permanent breaks in this department are very different from the majority of the other departments.\n",
    "Some departments (such as 64, 0, 76, 44) are scattered at different positions. This shows that they share more specific break patterns, but they are not as extreme as departments 62 and 12. They probably have break patterns that depend on several fuels, but less than the two extreme cases.\n",
    "Remote departments may be affected by specific local factors. This may include geographical or logistical reasons, or different supply behaviour."
   ]
  },
  {
   "cell_type": "code",
   "id": "cbb37693add2536",
   "metadata": {},
   "source": [
    "### Counting gas stations number for each department\n",
    "\n",
    "total_gas_stations = df_shortage_with_dummies.groupby(['departement', 'code_departement']).size().reset_index(name='total_gas_stations')\n",
    "\n",
    "total_gas_stations.head()"
   ],
   "outputs": [],
   "execution_count": null
  },
  {
   "cell_type": "code",
   "id": "5163c2e6b8f87e44",
   "metadata": {},
   "source": [
    "### Merging DataFrames\n",
    "merged_df = pd.merge(total_gas_stations, shortage_per_department, on=['code_departement'])\n",
    "\n",
    "merged_df"
   ],
   "outputs": [],
   "execution_count": null
  },
  {
   "cell_type": "code",
   "id": "443de774beba6ad0",
   "metadata": {},
   "source": [
    "### Calculation of the percentage of stations with a shortage of a given fuel by department\n",
    "merged_df['E10_shortage_percentage'] = merged_df['E10'] / merged_df['total_gas_stations']\n",
    "\n",
    "merged_df['E85_shortage_percentage'] = merged_df['E85'] / merged_df['total_gas_stations']\n",
    "\n",
    "merged_df['GPLc_shortage_percentage'] = merged_df['GPLc'] / merged_df['total_gas_stations']\n",
    "\n",
    "merged_df['Gazole_shortage_percentage'] = merged_df['Gazole'] / merged_df['total_gas_stations']\n",
    "\n",
    "merged_df['SP95_shortage_percentage'] = merged_df['SP95'] / merged_df['total_gas_stations']\n",
    "\n",
    "merged_df['SP98_shortage_percentage'] = merged_df['SP98'] / merged_df['total_gas_stations']\n",
    "\n",
    "merged_df.head()"
   ],
   "outputs": [],
   "execution_count": null
  },
  {
   "cell_type": "code",
   "id": "a6c77da755cac783",
   "metadata": {},
   "source": [
    "fig = px.choropleth_mapbox(\n",
    "    merged_df,\n",
    "    geojson=france_departements,\n",
    "    locations=\"code_departement\",\n",
    "    featureidkey=\"properties.code\",  ### GeoJSON key corresponding to departments\n",
    "    color=\"E85_shortage_percentage\",  ### Column to visualise\n",
    "    hover_name=\"departement\",  ### Display department while hovering\n",
    "    hover_data={\n",
    "        \"E85_shortage_percentage\": True,\n",
    "        \"E10_shortage_percentage\": True,\n",
    "        \"total_gas_stations\": True\n",
    "    },\n",
    "    color_continuous_scale=\"Reds\",\n",
    "    mapbox_style=\"carto-positron\",\n",
    "    zoom=5,\n",
    "    center={\"lat\": 46.603354, \"lon\": 1.888334}, ### Map center\n",
    "    opacity=0.5\n",
    ")\n",
    "\n",
    "fig.update_layout(mapbox_style=\"open-street-map\",\n",
    "                  title=\"Fuel shortages by department (E85 & E10)\",\n",
    "                  height=800)\n",
    "fig.show()"
   ],
   "outputs": [],
   "execution_count": null
  },
  {
   "cell_type": "markdown",
   "id": "11a1849c208eb4b3",
   "metadata": {},
   "source": [
    "The map above shows the definitive discontinuation rate for each département for superethanol e85, also compared with e10.\n",
    "Each rate is represented as a function of the total number of stations per department no longer selling these fuels permanently.\n",
    "As we can see, this fuel has a fairly high rate of permanent discontinuation across the board, with rates approaching **60%** for some departments (such as Aveyron, Haute-Loire, etc.).\n",
    "On the other hand, we can see that some départements have low final breakage rates for superethanol e85: Essonne, Vaucluse and Haute-Garonne, for example. These departments are mainly located on the outskirts of major cities, which encourages the presence of all types of vehicles, and therefore a need for this fuel.\n",
    "Compared with superethanol e10, the shortage rate is a little lower: between **10% and 20%**, except for Corsica, of course, because of its geographical location.\n",
    "This information can help carmakers to orientate their market, and find out which type of vehicle will be most interesting for the populations living in these areas."
   ]
  },
  {
   "cell_type": "code",
   "id": "b7622293f4cc0171",
   "metadata": {},
   "source": [
    "fig = px.choropleth_mapbox(\n",
    "    merged_df,\n",
    "    geojson=france_departements,\n",
    "    locations=\"code_departement\",\n",
    "    featureidkey=\"properties.code\",  ### GeoJSON key corresponding to departments\n",
    "    color=\"SP95_shortage_percentage\",  ### Column to visualise\n",
    "    hover_name=\"departement\",  ### Display department while hovering\n",
    "    hover_data={\n",
    "        \"SP95_shortage_percentage\": True,\n",
    "        \"SP98_shortage_percentage\": True,\n",
    "        \"total_gas_stations\": True\n",
    "    },\n",
    "    color_continuous_scale=\"Reds\",\n",
    "    mapbox_style=\"carto-positron\",\n",
    "    zoom=5,\n",
    "    center={\"lat\": 46.603354, \"lon\": 1.888334},  ### Map center\n",
    "    opacity=0.5\n",
    ")\n",
    "\n",
    "fig.update_layout(mapbox_style=\"open-street-map\",\n",
    "                  title=\"Fuel shortages by department (SP95 & SP98)\",\n",
    "                  height=800)\n",
    "fig.show()"
   ],
   "outputs": [],
   "execution_count": null
  },
  {
   "cell_type": "markdown",
   "id": "566e3c0173667191",
   "metadata": {},
   "source": [
    "In the case of unleaded 95, such a high level of permanent discontinuation can be explained by the gradual cessation of use of this fuel by private consumers. In fact, the higher the octane rating of gasoline, the better combustion is controlled, protecting your engine's performance and longevity. **Unleaded 98 therefore offers better performance and engine protection than unleaded 95**. As a result, fewer and fewer service stations will be offering this type of fuel, which has a higher ultimate breakage rate."
   ]
  },
  {
   "cell_type": "code",
   "id": "d38515ff1a7cd653",
   "metadata": {},
   "source": [
    "fig = px.choropleth_mapbox(\n",
    "    merged_df,\n",
    "    geojson=france_departements,\n",
    "    locations=\"code_departement\",\n",
    "    featureidkey=\"properties.code\",  ### GeoJSON key corresponding to departments\n",
    "    color=\"Gazole_shortage_percentage\",  ### Column to visualise\n",
    "    hover_name=\"departement\",  ### Display department while hovering\n",
    "    hover_data={\n",
    "        \"Gazole_shortage_percentage\": True,\n",
    "        \"total_gas_stations\": True\n",
    "    },\n",
    "    color_continuous_scale=\"Reds\",\n",
    "    mapbox_style=\"carto-positron\",\n",
    "    zoom=5,\n",
    "    center={\"lat\": 46.603354, \"lon\": 1.888334},  ### Map center\n",
    "    opacity=0.5\n",
    ")\n",
    "\n",
    "fig.update_layout(mapbox_style=\"open-street-map\",\n",
    "                  title=\"Fuel shortages by department (Diesel)\",\n",
    "                  height=800)\n",
    "fig.show()"
   ],
   "outputs": [],
   "execution_count": null
  },
  {
   "cell_type": "markdown",
   "id": "83d0ecb144d7fa50",
   "metadata": {},
   "source": [
    "As we can see, diesel has a definitive break rate throughout the country. This is perfectly normal, given that the proportion of French vehicles running on diesel is almost **53%**."
   ]
  },
  {
   "cell_type": "code",
   "id": "d0aaebf0b4d861b7",
   "metadata": {},
   "source": [
    "heatmap_data = merged_df[['code_departement', 'E10_shortage_percentage', 'E85_shortage_percentage', \n",
    "                          'GPLc_shortage_percentage', 'Gazole_shortage_percentage', \n",
    "                          'SP95_shortage_percentage', 'SP98_shortage_percentage']]\n",
    "\n",
    "heatmap_data.set_index('code_departement', inplace=True)"
   ],
   "outputs": [],
   "execution_count": null
  },
  {
   "cell_type": "code",
   "id": "2a7cdbc0deb09d4e",
   "metadata": {},
   "source": [
    "\n",
    "fig = px.imshow(heatmap_data.T,  ### Transpose to get the fuel types on the X axis\n",
    "                labels=dict(x=\"Department Code\", y=\"Fuel Type\", color=\"Shortage (%)\"),\n",
    "                color_continuous_scale=\"Viridis\",\n",
    "                aspect=\"auto\",  ### Keep the axes proportional\n",
    "                title=\"Fuel Shortage Percentage by Department\")\n",
    "\n",
    "fig.show()"
   ],
   "outputs": [],
   "execution_count": null
  },
  {
   "cell_type": "markdown",
   "id": "8ab54c11ed14df94",
   "metadata": {},
   "source": [
    "As we can see, among the list of fuels, the one with the most definitive break is GPLc, with rates reaching 80% for some departments. And, as we saw earlier, the fuel with the lowest rate of permanent rupture is diesel."
   ]
  },
  {
   "cell_type": "code",
   "id": "f4b85e295a0ad0e0",
   "metadata": {},
   "source": [
    "### Transforming the original dataset\n",
    "df_filled = df_price.merge(price_per_department,\n",
    "                           on=['departement', 'code_departement'],\n",
    "                           suffixes=('', '_median'),\n",
    "                           how='left')\n",
    "\n",
    "for col in ['sp98_prix', 'sp95_prix', 'gazole_prix', 'e10_prix', 'e85_prix', 'gplc_prix']:\n",
    "    df_filled[col] = df_filled[col].fillna(df_filled[f'{col}_median'])\n",
    "\n",
    "df_filled = df_filled.drop([f'{col}_median' for col in ['sp98_prix', 'sp95_prix', 'gazole_prix', 'e10_prix', 'e85_prix', 'gplc_prix']], axis=1)"
   ],
   "outputs": [],
   "execution_count": null
  },
  {
   "cell_type": "code",
   "id": "f48ce3b29d03c80a",
   "metadata": {},
   "source": [
    "from folium.plugins import MarkerCluster\n",
    "\n",
    "### Setting up the map\n",
    "m = folium.Map(location=[46.603354, 1.888334], zoom_start=6)\n",
    "\n",
    "### Creating a marker cluster\n",
    "marker_cluster = MarkerCluster().add_to(m)\n",
    "\n",
    "### Add marker to cluster\n",
    "for i, row in df_filled.iterrows():\n",
    "    folium.Marker(\n",
    "        location=row['geom'].split(','),\n",
    "        popup=f\"\"\"\n",
    "                {row['ville']} :\n",
    "                \\n E10 : {row['e10_prix']} €/L\n",
    "                \\n E85 : {row['e85_prix']} €/L\n",
    "                \\n SP5 : {row['sp95_prix']} €/L\n",
    "                \\n SP98 : {row['sp98_prix']} €/L\n",
    "                \\n Gazole : {row['gazole_prix']} €/L\n",
    "                \\n GPLc : {row['gplc_prix']} €/L\n",
    "        \"\"\",\n",
    "        icon=folium.Icon(color=\"blue\", icon=\"info-sign\")\n",
    "    ).add_to(marker_cluster)\n",
    "\n",
    "m\n"
   ],
   "outputs": [],
   "execution_count": null
  },
  {
   "cell_type": "markdown",
   "id": "1b188db584f570ec",
   "metadata": {},
   "source": [
    "# Study of the distribution of gas stations"
   ]
  },
  {
   "cell_type": "markdown",
   "id": "6b12b7f5ab89a1b0",
   "metadata": {},
   "source": [
    "Now we'll look at the breakdown of gas stations by department. In other words, our data takes into account the road network in two categories: roads and motorways, and will enable us to see where the main sales outlets are located."
   ]
  },
  {
   "cell_type": "code",
   "id": "63e77b43f5b0e32a",
   "metadata": {
    "ExecuteTime": {
     "end_time": "2024-10-19T23:15:31.058245Z",
     "start_time": "2024-10-19T23:15:31.045710Z"
    }
   },
   "source": [
    "test = pd.crosstab(df['code_departement'], df['pop'])\n",
    "\n",
    "### Computation for each category\n",
    "pop_total = test.sum()\n",
    "\n",
    "test"
   ],
   "outputs": [
    {
     "data": {
      "text/plain": [
       "pop               A    R\n",
       "code_departement        \n",
       "01                9  112\n",
       "02                5   85\n",
       "03                3   78\n",
       "04                3   55\n",
       "05                0   49\n",
       "...              ..  ...\n",
       "91                9  127\n",
       "92                1   77\n",
       "93                2   88\n",
       "94                3   79\n",
       "95                5  107\n",
       "\n",
       "[96 rows x 2 columns]"
      ],
      "text/html": [
       "<div>\n",
       "<style scoped>\n",
       "    .dataframe tbody tr th:only-of-type {\n",
       "        vertical-align: middle;\n",
       "    }\n",
       "\n",
       "    .dataframe tbody tr th {\n",
       "        vertical-align: top;\n",
       "    }\n",
       "\n",
       "    .dataframe thead th {\n",
       "        text-align: right;\n",
       "    }\n",
       "</style>\n",
       "<table border=\"1\" class=\"dataframe\">\n",
       "  <thead>\n",
       "    <tr style=\"text-align: right;\">\n",
       "      <th>pop</th>\n",
       "      <th>A</th>\n",
       "      <th>R</th>\n",
       "    </tr>\n",
       "    <tr>\n",
       "      <th>code_departement</th>\n",
       "      <th></th>\n",
       "      <th></th>\n",
       "    </tr>\n",
       "  </thead>\n",
       "  <tbody>\n",
       "    <tr>\n",
       "      <th>01</th>\n",
       "      <td>9</td>\n",
       "      <td>112</td>\n",
       "    </tr>\n",
       "    <tr>\n",
       "      <th>02</th>\n",
       "      <td>5</td>\n",
       "      <td>85</td>\n",
       "    </tr>\n",
       "    <tr>\n",
       "      <th>03</th>\n",
       "      <td>3</td>\n",
       "      <td>78</td>\n",
       "    </tr>\n",
       "    <tr>\n",
       "      <th>04</th>\n",
       "      <td>3</td>\n",
       "      <td>55</td>\n",
       "    </tr>\n",
       "    <tr>\n",
       "      <th>05</th>\n",
       "      <td>0</td>\n",
       "      <td>49</td>\n",
       "    </tr>\n",
       "    <tr>\n",
       "      <th>...</th>\n",
       "      <td>...</td>\n",
       "      <td>...</td>\n",
       "    </tr>\n",
       "    <tr>\n",
       "      <th>91</th>\n",
       "      <td>9</td>\n",
       "      <td>127</td>\n",
       "    </tr>\n",
       "    <tr>\n",
       "      <th>92</th>\n",
       "      <td>1</td>\n",
       "      <td>77</td>\n",
       "    </tr>\n",
       "    <tr>\n",
       "      <th>93</th>\n",
       "      <td>2</td>\n",
       "      <td>88</td>\n",
       "    </tr>\n",
       "    <tr>\n",
       "      <th>94</th>\n",
       "      <td>3</td>\n",
       "      <td>79</td>\n",
       "    </tr>\n",
       "    <tr>\n",
       "      <th>95</th>\n",
       "      <td>5</td>\n",
       "      <td>107</td>\n",
       "    </tr>\n",
       "  </tbody>\n",
       "</table>\n",
       "<p>96 rows × 2 columns</p>\n",
       "</div>"
      ]
     },
     "execution_count": 4,
     "metadata": {},
     "output_type": "execute_result"
    }
   ],
   "execution_count": 4
  },
  {
   "cell_type": "code",
   "id": "561c59957c81b7cd",
   "metadata": {},
   "source": [
    "fig = px.pie(\n",
    "    names=pop_total.index,\n",
    "    values=pop_total.values,\n",
    "    title=\"Distribution of populations by type\"\n",
    ")\n",
    "\n",
    "fig.show()"
   ],
   "outputs": [],
   "execution_count": null
  },
  {
   "cell_type": "markdown",
   "id": "3749bc282152fe08",
   "metadata": {},
   "source": [
    "As we can see, **95.5%** of service stations are located on roadsides, which is normal in the case of towns and cities, given that most motorists travel in towns and cities: more traffic means more turnover for the station owners. In particular, there are far more needs in town than on the motorways: going to work or shopping, so there are far more service stations in town.\n",
    "Whereas **4.5%** of service stations are located on the edge of France's motorways. That's a total of 453 service stations located along motorways throughout the country. Excluding holiday periods, this means fewer people passing through, and therefore less need."
   ]
  }
 ],
 "metadata": {
  "kernelspec": {
   "display_name": "Python 3 (ipykernel)",
   "language": "python",
   "name": "python3"
  },
  "language_info": {
   "codemirror_mode": {
    "name": "ipython",
    "version": 3
   },
   "file_extension": ".py",
   "mimetype": "text/x-python",
   "name": "python",
   "nbconvert_exporter": "python",
   "pygments_lexer": "ipython3",
   "version": "3.12.4"
  }
 },
 "nbformat": 4,
 "nbformat_minor": 5
}
