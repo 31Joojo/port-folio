{
 "cells": [
  {
   "cell_type": "markdown",
   "id": "fd93928f03981148",
   "metadata": {},
   "source": [
    "### - **Author : Joris LAMAILLARD-NOIREN**\n",
    "### - **Email : joris.larmaillard--noiren@efrei.net**\n",
    "### - **Date : Monday, September 16th of 2024**"
   ]
  },
  {
   "cell_type": "markdown",
   "id": "c03bdc35693c2d0f",
   "metadata": {},
   "source": [
    "# Introduction\n",
    "\n",
    "This notebook is designed to explore and analyze the dataset at hand in order to identify key trends and insights. Initially, we will focus on examining the structure and contents of the data, ensuring we understand the types of information available and their potential value. This exploration phase will help us determine which visualizations and plots are most suitable for showcasing relevant patterns.\n",
    "\n",
    "By carefully inspecting the dataset, we aim to highlight the most interesting variables and relationships, guiding us toward more meaningful and impactful data visualizations later on."
   ]
  },
  {
   "cell_type": "markdown",
   "id": "dc8ed2b5fe3220ab",
   "metadata": {},
   "source": [
    "# Data Analysis"
   ]
  },
  {
   "cell_type": "code",
   "id": "87834668e7fea8cf",
   "metadata": {},
   "source": [
    "### Module importation ###\n",
    "\n",
    "import pandas as pd\n",
    "import numpy as np\n",
    "import matplotlib.pyplot as plt\n",
    "import plotly.express as px\n",
    "import plotly.graph_objects as go\n",
    "import prince\n",
    "from prince import ca, mca\n",
    "import folium"
   ],
   "outputs": [],
   "execution_count": null
  },
  {
   "cell_type": "code",
   "id": "65e948ad9a69baf6",
   "metadata": {},
   "source": [
    "### Data importation ###\n",
    "\n",
    "df = pd.read_csv('prix-des-carburants-en-france-flux-instantane-v2.csv', delimiter=';')\n",
    "\n",
    "\n",
    "df.head()"
   ],
   "outputs": [],
   "execution_count": null
  },
  {
   "cell_type": "markdown",
   "id": "e8b26ca0-bf29-4154-8471-a8d31c5867d7",
   "metadata": {},
   "source": [
    "In order to analyse the data correctly, we'll divide the dataset into several different sets.\n",
    "A subset of the dataset will be linked to a specific piece of information we wish to analyse. To do this, we'll first perform a preliminary data cleansing (on the dataset as a whole), then we'll go through the datasets"
   ]
  },
  {
   "cell_type": "markdown",
   "id": "d8532600-520d-4643-ae66-e29202889d08",
   "metadata": {},
   "source": [
    "We will have the following subsets of data:\n",
    "- df_price: fuel price analysis\n",
    "    * Visualize price trends in different regions or cities, compare prices by fuel type, or analyze the impact of price fluctuations over specific periods.\n",
    "- df_geo: geographical analysis\n",
    "    * Explore regional or local disparities in fuel availability and prices.\n",
    "- df_shortage: fuel availability and outage management\n",
    "    * Analyze the frequency and duration of fuel unavailability\n",
    "- df_availability: General fuel availability\n",
    "    * Comparative analysis of fuel availability and non-availability"
   ]
  },
  {
   "cell_type": "code",
   "id": "35a673bb-c61d-42ca-aebd-1b8a2275948b",
   "metadata": {},
   "source": [
    "df = df.drop(columns=['horaires', 'horaires_automate_24_24', 'horaires_jour', 'services', 'services_service'])"
   ],
   "outputs": [],
   "execution_count": null
  },
  {
   "metadata": {},
   "cell_type": "markdown",
   "source": "### **Prices analysis**",
   "id": "ef80ecc236394e1b"
  },
  {
   "cell_type": "code",
   "id": "0fe5114c-9409-460d-bb18-682ea71283cb",
   "metadata": {},
   "source": "df_price = df[['cp', 'ville', 'latitude', 'longitude', 'departement', 'code_departement', 'prix', 'e10_prix', 'e85_prix', 'sp95_prix', 'sp98_prix', 'gazole_prix', 'gplc_prix']]",
   "outputs": [],
   "execution_count": null
  },
  {
   "metadata": {},
   "cell_type": "markdown",
   "source": "Analysis of each variable distribution",
   "id": "302cef843c852e84"
  },
  {
   "metadata": {},
   "cell_type": "code",
   "source": [
    "from ydata_profiling import ProfileReport\n",
    "\n",
    "profile = ProfileReport(df_price, title='Prices report')\n",
    "profile.to_file(\"Fuel-prices.html\")"
   ],
   "id": "54e704c0f2395987",
   "outputs": [],
   "execution_count": null
  },
  {
   "metadata": {},
   "cell_type": "code",
   "source": [
    "fig = go.Figure()\n",
    "\n",
    "fig.add_trace(go.Box(y=df_price['e10_prix'], name='E10'))\n",
    "fig.add_trace(go.Box(y=df_price['e85_prix'], name='E85'))\n",
    "fig.add_trace(go.Box(y=df_price['sp95_prix'], name='SP95'))\n",
    "fig.add_trace(go.Box(y=df_price['sp98_prix'], name='SP98'))\n",
    "fig.add_trace(go.Box(y=df_price['gazole_prix'], name='Gazole'))\n",
    "fig.add_trace(go.Box(y=df_price['gplc_prix'], name='GPLC'))\n",
    "\n",
    "fig.update_layout(\n",
    "    title='Distribution of prices',\n",
    "    yaxis_title='Prices (€)',\n",
    "    xaxis_title='Fuels type'\n",
    ")\n",
    "\n",
    "fig.show()"
   ],
   "id": "988711aca44b54cd",
   "outputs": [],
   "execution_count": null
  },
  {
   "metadata": {},
   "cell_type": "markdown",
   "source": [
    "We observe that for all fuel types there is a strong presence of outliers. Our dataset presents missing values due to several factors :\n",
    "- Some stations don't sell certain types of fuel, so fuel prices are not updated. \n",
    "- Some values are simply missing, so I think they've just not been recorded, or these outlets don't sell these fuels.\n",
    "\n",
    "Next, we'll calculate the median by department, as it's more robust for asymmetrical distributions or those containing extreme values, as in our case. For example, an isolated station with a much higher price could affect the average."
   ],
   "id": "3f6b194d7ccc06b5"
  },
  {
   "cell_type": "code",
   "id": "e1dd99dd-cde7-4dc4-8fb4-b2899facf49c",
   "metadata": {},
   "source": [
    "price_per_department = df_price.groupby(['departement', 'code_departement'])[['sp98_prix', 'sp95_prix', 'gazole_prix', 'e10_prix', 'e85_prix', 'gplc_prix']].median().reset_index()\n",
    "\n",
    "price_per_department"
   ],
   "outputs": [],
   "execution_count": null
  },
  {
   "metadata": {},
   "cell_type": "code",
   "source": [
    "### Transform the DataFrame so that it's compatible with histogram display\n",
    "price_per_department_melted = price_per_department.melt(id_vars=['departement', 'code_departement'], ### Columns that won't be melted -> they'll be used as index\n",
    "                                                          value_vars=['sp98_prix', 'sp95_prix', 'gazole_prix', 'e10_prix', 'e85_prix'], ### These columns will be melted into a new column\n",
    "                                                          var_name='Fuels type', \n",
    "                                                          value_name='Average Price')\n",
    "\n",
    "price_per_department_melted\n"
   ],
   "id": "69b087349bdb3eb5",
   "outputs": [],
   "execution_count": null
  },
  {
   "metadata": {},
   "cell_type": "code",
   "source": [
    "fig = px.bar(price_per_department_melted, \n",
    "             x='departement', \n",
    "             y='Average Price',\n",
    "             color='Fuels type',\n",
    "             barmode='group',  ### Displays the bars side by side\n",
    "             title='Average fuel prices by department',\n",
    "             labels={'departement': 'Departement', 'Average Price': 'Average Price (€/L)', 'Fuels type': 'Fuels type'})\n",
    "\n",
    "fig.show()"
   ],
   "id": "38686eae61ceead6",
   "outputs": [],
   "execution_count": null
  },
  {
   "metadata": {},
   "cell_type": "markdown",
   "source": [
    "Let's do some visualisation with our data displayed onto the french map.\n",
    "We'll use a geoson file of France in order to use a map already split by departement, and display the corresponding data to each corresponding departement.\n",
    "\n",
    "To do this, we need to display our map according to each type of fuel. We'll proceed as follows :\n",
    "- First : sp98 and sp95\n",
    "- Second : e10 and e85\n",
    "- Third : diesel\n",
    "- Fourth : gplc"
   ],
   "id": "46e75ade382a5604"
  },
  {
   "metadata": {},
   "cell_type": "markdown",
   "source": "### **Loading the geoson file**",
   "id": "2bfb3a3c48a11bdc"
  },
  {
   "metadata": {},
   "cell_type": "code",
   "source": [
    "import json\n",
    "with open('departements.geojson') as f:\n",
    "    france_departements = json.load(f)"
   ],
   "id": "33fb436d689bde9e",
   "outputs": [],
   "execution_count": null
  },
  {
   "metadata": {},
   "cell_type": "markdown",
   "source": "### **sp98 & sp95**",
   "id": "8cc12b267556a151"
  },
  {
   "metadata": {},
   "cell_type": "code",
   "source": [
    "from plotly.subplots import make_subplots\n",
    "\n",
    "### Creating a figure with two columns\n",
    "fig = make_subplots(rows=1, cols=2, \n",
    "                    subplot_titles=(\"SP98 Price by Department\", \"SP95 Price by Department\"),\n",
    "                    specs=[[{\"type\": \"choropleth\"}, {\"type\": \"choropleth\"}]])\n",
    "\n",
    "### sp98\n",
    "fig.add_trace(\n",
    "    px.choropleth(\n",
    "        price_per_department,\n",
    "        geojson=france_departements,\n",
    "        locations='code_departement',\n",
    "        featureidkey=\"properties.code\",\n",
    "        color='sp98_prix',\n",
    "        hover_name='departement',\n",
    "        color_continuous_scale=\"Plasma\",\n",
    "        labels={'sp98_prix':'SP98 Price (€/L)'}\n",
    "    ).data[0],\n",
    "    row=1, col=1\n",
    ")\n",
    "\n",
    "### sp95\n",
    "fig.add_trace(\n",
    "    px.choropleth(\n",
    "        price_per_department,\n",
    "        geojson=france_departements,\n",
    "        locations='code_departement',\n",
    "        featureidkey=\"properties.code\",\n",
    "        color='sp95_prix',\n",
    "        hover_name='departement',\n",
    "        color_continuous_scale=\"Plasma\",\n",
    "        labels={'sp95_prix':'SP95 Price (€/L)'}\n",
    "    ).data[0],\n",
    "    row=1, col=2\n",
    ")\n",
    "\n",
    "### Setting appearance and geographical boundaries\n",
    "fig.update_geos(fitbounds=\"locations\", visible=False)\n",
    "fig.update_layout(title_text=\"SP98 vs SP95 Fuel Prices by Department\", height=800)\n",
    "\n",
    "fig.show()"
   ],
   "id": "7f05b69da767d576",
   "outputs": [],
   "execution_count": null
  },
  {
   "metadata": {},
   "cell_type": "markdown",
   "source": [
    "As we can, most of the west departements have a lower price than the rest of France, especially l'Île-de-France.\n",
    "Generally speaking, we can see that prices in France for sp98 are around 1.80€ and 1.85€ : this distribution is fairly uniform throughout the country, except for Paris, which has a median value over 1.90€ per liter.\n",
    "In the case of sp95, the average price range is between 1.70€ and 1.80€ across the country, except in Paris, where the price per liter is around 2.0€.\n",
    "\n",
    "This price difference between Paris and the rest of the country can be due to several factors:\n",
    "- Higher operating costs in Paris: high rents and property taxes, higher salaries\n",
    "- Less competition between stations in Paris: fewer large low-cost stations, supermarket stations are rare.\n",
    "- Delivery and logistics\n",
    "- Demand effect\n",
    "Fuel prices in Paris are higher due to a combination of additional costs (logistics, operations, taxes) and weaker competition. In addition, local policies and the demand effect play a role. In other regions, the presence of supermarket stations and larger supermarkets reduces prices through increased competition."
   ],
   "id": "b7b7415f790bd919"
  },
  {
   "metadata": {},
   "cell_type": "markdown",
   "source": "### **e10 & e85**",
   "id": "bb3f0adc4aebd96f"
  },
  {
   "metadata": {},
   "cell_type": "code",
   "source": [
    "import plotly.express as px\n",
    "from plotly.subplots import make_subplots\n",
    "\n",
    "fig = make_subplots(rows=1, cols=2, \n",
    "                    subplot_titles=(\"E10 Price by Department\", \"E85 Price by Department\"),\n",
    "                    specs=[[{\"type\": \"choropleth\"}, {\"type\": \"choropleth\"}]])\n",
    "\n",
    "### e10\n",
    "fig.add_trace(\n",
    "    px.choropleth(\n",
    "        price_per_department,\n",
    "        geojson=france_departements,\n",
    "        locations='code_departement',\n",
    "        featureidkey=\"properties.code\",\n",
    "        color='e10_prix',\n",
    "        hover_name='departement',\n",
    "        color_continuous_scale=\"Plasma\",\n",
    "        labels={'e10_prix':'E10 Price (€/L)'}\n",
    "    ).data[0],\n",
    "    row=1, col=1\n",
    ")\n",
    "\n",
    "### e85\n",
    "fig.add_trace(\n",
    "    px.choropleth(\n",
    "        price_per_department,\n",
    "        geojson=france_departements,\n",
    "        locations='code_departement',\n",
    "        featureidkey=\"properties.code\",\n",
    "        color='e85_prix',\n",
    "        hover_name='departement',\n",
    "        color_continuous_scale=\"Plasma\",\n",
    "        labels={'e85_prix':'E85 Price (€/L)'}\n",
    "    ).data[0],\n",
    "    row=1, col=2\n",
    ")\n",
    "\n",
    "fig.update_geos(fitbounds=\"locations\", visible=False)\n",
    "fig.update_layout(title_text=\"E10 vs E85 Fuel Prices by Department\", height=800)\n",
    "\n",
    "fig.show()\n"
   ],
   "id": "aa119f7328dd273",
   "outputs": [],
   "execution_count": null
  },
  {
   "metadata": {},
   "cell_type": "markdown",
   "source": [
    "This case is impressive because we see a complete contrast in average prices between e10 and e85 superethanol. E10 ethanol is much more expensive nationwide, with an  average price of 1.70€, compared with 0.83€ for e85.\n",
    "However, in both cases, there is no real significant difference from one region to another: prices are fairly uniform. This may be due to the fact that there aren't as many ethanol-powered vehicles throughout the country as there are for other types of vehicle."
   ],
   "id": "49510169c17412fb"
  },
  {
   "metadata": {},
   "cell_type": "markdown",
   "source": "### **Diesel**",
   "id": "a76fe134b0344e34"
  },
  {
   "metadata": {},
   "cell_type": "code",
   "source": [
    "fig = px.choropleth(\n",
    "    price_per_department,\n",
    "    geojson=france_departements,\n",
    "    locations='code_departement',\n",
    "    featureidkey=\"properties.code\",\n",
    "    color='gazole_prix',\n",
    "    hover_name='departement',\n",
    "    color_continuous_scale=\"Plasma\",\n",
    "    labels={'gazole_prix':'Diesel Price (€/L)'}, \n",
    "    title='Average fuel prices by department (diesel)'\n",
    ")\n",
    "\n",
    "fig.update_geos(fitbounds=\"locations\", visible=False)\n",
    "\n",
    "fig.show()"
   ],
   "id": "33f0597c16bf40df",
   "outputs": [],
   "execution_count": null
  },
  {
   "metadata": {},
   "cell_type": "markdown",
   "source": "As we can see, the price of diesel is around 1.63€ nationwide. For Corsica and Paris, we see higher costs: around 1.75€ for Corsica, and 1.80€ for Paris.",
   "id": "c259f346b231631d"
  },
  {
   "metadata": {},
   "cell_type": "markdown",
   "source": "### **Gplc**",
   "id": "16b5dda4366a368c"
  },
  {
   "metadata": {},
   "cell_type": "code",
   "source": [
    "fig = px.choropleth(\n",
    "    price_per_department,\n",
    "    geojson=france_departements,\n",
    "    locations='code_departement',\n",
    "    featureidkey=\"properties.code\",\n",
    "    color='gplc_prix',\n",
    "    hover_name='departement',\n",
    "    color_continuous_scale=\"Plasma\",\n",
    "    labels={'gplc_prix':'GPLC Price (€/L)'}, \n",
    "    title='Average fuel prices by department (gplc)'\n",
    ")\n",
    "\n",
    "fig.update_geos(fitbounds=\"locations\",\n",
    "                visible=False)\n",
    "\n",
    "fig.show()"
   ],
   "id": "db698a7c510b1c17",
   "outputs": [],
   "execution_count": null
  },
  {
   "metadata": {},
   "cell_type": "markdown",
   "source": "On average, prices in the region are around €1.0. There is no real variation in price from one département to another, except for Corsica, where the average price is around 1.30€.  This difference may be due to the cost of transporting cLPG between France and Corsica: the cost of transport is therefore included in the price per liter of cLPG.",
   "id": "52eb023c839b62ef"
  },
  {
   "metadata": {},
   "cell_type": "markdown",
   "source": "### Geographical analysis",
   "id": "3aa23501fb657696"
  },
  {
   "metadata": {},
   "cell_type": "markdown",
   "source": "In this section, we look at fuel shortages on a national scale.",
   "id": "df8ff45f61801630"
  },
  {
   "metadata": {},
   "cell_type": "code",
   "source": [
    "df_shortage = df[['code_departement', 'departement', 'carburants_rupture_definitive']]\n",
    "\n",
    "df_shortage.head()"
   ],
   "id": "5d43a1905e4abcd",
   "outputs": [],
   "execution_count": null
  },
  {
   "metadata": {},
   "cell_type": "code",
   "source": [
    "dummies = df['carburants_rupture_definitive'].str.get_dummies(sep=';')\n",
    "\n",
    "df_shortage_with_dummies = pd.concat([df_shortage, dummies], axis=1)\n",
    "\n",
    "df_shortage_with_dummies"
   ],
   "id": "6b9b20cdbcbc7551",
   "outputs": [],
   "execution_count": null
  },
  {
   "metadata": {},
   "cell_type": "code",
   "source": "shortage_per_department = df_shortage_with_dummies.groupby('code_departement')[dummies.columns].sum().reset_index()\n",
   "id": "e6a895c07d2a08db",
   "outputs": [],
   "execution_count": null
  },
  {
   "metadata": {},
   "cell_type": "code",
   "source": "shortage_per_department",
   "id": "df4d32b136485bad",
   "outputs": [],
   "execution_count": null
  },
  {
   "metadata": {},
   "cell_type": "code",
   "source": [
    "%matplotlib inline\n",
    "\n",
    "### Initialize MCA model\n",
    "mca = prince.MCA(n_components=2)\n",
    "\n",
    "### Fit MCA model with data\n",
    "mca = mca.fit(shortage_per_department.set_index('code_departement'))\n",
    "\n",
    "### Transform the data\n",
    "mca_results = mca.transform(shortage_per_department)\n",
    "\n",
    "plt.scatter(mca_results[0], mca_results[1])\n",
    "\n",
    "plt.title('')\n",
    "plt.xlabel('Component 1')\n",
    "plt.ylabel('Component 2')\n",
    "plt.grid(True)\n",
    "plt.show()\n"
   ],
   "id": "b9c9de8bba3db5a5",
   "outputs": [],
   "execution_count": null
  },
  {
   "metadata": {},
   "cell_type": "code",
   "source": [
    "fig = px.scatter(mca_results, x='Component 1', y='Component 2', text='Department',\n",
    "                 title='Correspondence Analysis: Carburant Ruptures by Department')"
   ],
   "id": "e35978a9f260b3d6",
   "outputs": [],
   "execution_count": null
  },
  {
   "metadata": {},
   "cell_type": "markdown",
   "source": [
    "The vast majority of departments are concentrated around the origin (values close to 0 on the two main components). This indicates that they share similar characteristics in terms of permanent fuel breaks.\n",
    "Departments 62 and 12 stand out strongly from the others.\n",
    "Department 62 has a relatively distant position at the top of the graph. This could indicate that it has a specific fuel rupture profile, linked to certain types of fuel that are permanently broken. This means that Pas-de-Calais probably has a uniquely affected fuel type.\n",
    "For department 12, it is also very far along the axis of the first component, which suggests that the permanent breaks in this department are very different from the majority of the other departments.\n",
    "Some departments (such as 64, 0, 76, 44) are scattered at different positions. This shows that they share more specific break patterns, but they are not as extreme as departments 62 and 12. They probably have break patterns that depend on several fuels, but less than the two extreme cases.\n",
    "Remote departments may be affected by specific local factors. This may include geographical or logistical reasons, or different supply behaviour."
   ],
   "id": "ce1aa11992cb2d7c"
  },
  {
   "metadata": {},
   "cell_type": "code",
   "source": [
    "### Counting gas stations number for each department\n",
    "\n",
    "total_gas_stations = df_shortage_with_dummies.groupby(['departement', 'code_departement']).size().reset_index(name='total_gas_stations')\n",
    "\n",
    "total_gas_stations.head()"
   ],
   "id": "cbb37693add2536",
   "outputs": [],
   "execution_count": null
  },
  {
   "metadata": {},
   "cell_type": "code",
   "source": [
    "### Merging DataFrames\n",
    "merged_df = pd.merge(total_gas_stations, shortage_per_department, on=['code_departement'])\n",
    "\n",
    "merged_df"
   ],
   "id": "5163c2e6b8f87e44",
   "outputs": [],
   "execution_count": null
  },
  {
   "metadata": {},
   "cell_type": "code",
   "source": [
    "### Calculation of the percentage of stations with a shortage of a given fuel by department\n",
    "merged_df['E10_shortage_percentage'] = merged_df['E10'] / merged_df['total_gas_stations']\n",
    "\n",
    "merged_df['E85_shortage_percentage'] = merged_df['E85'] / merged_df['total_gas_stations']\n",
    "\n",
    "merged_df['GPLc_shortage_percentage'] = merged_df['GPLc'] / merged_df['total_gas_stations']\n",
    "\n",
    "merged_df['Gazole_shortage_percentage'] = merged_df['Gazole'] / merged_df['total_gas_stations']\n",
    "\n",
    "merged_df['SP95_shortage_percentage'] = merged_df['SP95'] / merged_df['total_gas_stations']\n",
    "\n",
    "merged_df['SP98_shortage_percentage'] = merged_df['SP98'] / merged_df['total_gas_stations']\n",
    "\n",
    "merged_df.head()"
   ],
   "id": "443de774beba6ad0",
   "outputs": [],
   "execution_count": null
  },
  {
   "metadata": {},
   "cell_type": "code",
   "source": [
    "fig = px.choropleth_mapbox(\n",
    "    merged_df,\n",
    "    geojson=france_departements,\n",
    "    locations=\"code_departement\",\n",
    "    featureidkey=\"properties.code\",  ### GeoJSON key corresponding to departments\n",
    "    color=\"E85_shortage_percentage\",  ### Column to visualise\n",
    "    hover_name=\"departement\",  ### Display department while hovering\n",
    "    hover_data={\n",
    "        \"E85_shortage_percentage\": True,\n",
    "        \"E10_shortage_percentage\": True,\n",
    "        \"total_gas_stations\": True\n",
    "    },\n",
    "    color_continuous_scale=\"Reds\",\n",
    "    mapbox_style=\"carto-positron\",\n",
    "    zoom=5,\n",
    "    center={\"lat\": 46.603354, \"lon\": 1.888334}, ### Map center\n",
    "    opacity=0.5\n",
    ")\n",
    "\n",
    "fig.update_layout(mapbox_style=\"open-street-map\",\n",
    "                  title=\"Fuel shortages by department (E85 & E10)\",\n",
    "                  height=800)\n",
    "fig.show()"
   ],
   "id": "a6c77da755cac783",
   "outputs": [],
   "execution_count": null
  },
  {
   "metadata": {},
   "cell_type": "markdown",
   "source": [
    "The map above shows the definitive discontinuation rate for each département for superethanol e85, also compared with e10.\n",
    "Each rate is represented as a function of the total number of stations per department no longer selling these fuels permanently.\n",
    "As we can see, this fuel has a fairly high rate of permanent discontinuation across the board, with rates approaching **60%** for some departments (such as Aveyron, Haute-Loire, etc.).\n",
    "On the other hand, we can see that some départements have low final breakage rates for superethanol e85: Essonne, Vaucluse and Haute-Garonne, for example. These departments are mainly located on the outskirts of major cities, which encourages the presence of all types of vehicles, and therefore a need for this fuel.\n",
    "Compared with superethanol e10, the shortage rate is a little lower: between **10% and 20%**, except for Corsica, of course, because of its geographical location.\n",
    "This information can help carmakers to orientate their market, and find out which type of vehicle will be most interesting for the populations living in these areas."
   ],
   "id": "11a1849c208eb4b3"
  },
  {
   "metadata": {},
   "cell_type": "code",
   "source": [
    "fig = px.choropleth_mapbox(\n",
    "    merged_df,\n",
    "    geojson=france_departements,\n",
    "    locations=\"code_departement\",\n",
    "    featureidkey=\"properties.code\",  ### GeoJSON key corresponding to departments\n",
    "    color=\"SP95_shortage_percentage\",  ### Column to visualise\n",
    "    hover_name=\"departement\",  ### Display department while hovering\n",
    "    hover_data={\n",
    "        \"SP95_shortage_percentage\": True,\n",
    "        \"SP98_shortage_percentage\": True,\n",
    "        \"total_gas_stations\": True\n",
    "    },\n",
    "    color_continuous_scale=\"Reds\",\n",
    "    mapbox_style=\"carto-positron\",\n",
    "    zoom=5,\n",
    "    center={\"lat\": 46.603354, \"lon\": 1.888334},  ### Map center\n",
    "    opacity=0.5\n",
    ")\n",
    "\n",
    "fig.update_layout(mapbox_style=\"open-street-map\",\n",
    "                  title=\"Fuel shortages by department (SP95 & SP98)\",\n",
    "                  height=800)\n",
    "fig.show()"
   ],
   "id": "b7622293f4cc0171",
   "outputs": [],
   "execution_count": null
  },
  {
   "metadata": {},
   "cell_type": "markdown",
   "source": "In the case of unleaded 95, such a high level of permanent discontinuation can be explained by the gradual cessation of use of this fuel by private consumers. In fact, the higher the octane rating of gasoline, the better combustion is controlled, protecting your engine's performance and longevity. **Unleaded 98 therefore offers better performance and engine protection than unleaded 95**. As a result, fewer and fewer service stations will be offering this type of fuel, which has a higher ultimate breakage rate.",
   "id": "566e3c0173667191"
  },
  {
   "metadata": {},
   "cell_type": "code",
   "source": [
    "fig = px.choropleth_mapbox(\n",
    "    merged_df,\n",
    "    geojson=france_departements,\n",
    "    locations=\"code_departement\",\n",
    "    featureidkey=\"properties.code\",  ### GeoJSON key corresponding to departments\n",
    "    color=\"Gazole_shortage_percentage\",  ### Column to visualise\n",
    "    hover_name=\"departement\",  ### Display department while hovering\n",
    "    hover_data={\n",
    "        \"Gazole_shortage_percentage\": True,\n",
    "        \"total_gas_stations\": True\n",
    "    },\n",
    "    color_continuous_scale=\"Reds\",\n",
    "    mapbox_style=\"carto-positron\",\n",
    "    zoom=5,\n",
    "    center={\"lat\": 46.603354, \"lon\": 1.888334},  ### Map center\n",
    "    opacity=0.5\n",
    ")\n",
    "\n",
    "fig.update_layout(mapbox_style=\"open-street-map\",\n",
    "                  title=\"Fuel shortages by department (Diesel)\",\n",
    "                  height=800)\n",
    "fig.show()"
   ],
   "id": "d38515ff1a7cd653",
   "outputs": [],
   "execution_count": null
  },
  {
   "metadata": {},
   "cell_type": "markdown",
   "source": "As we can see, diesel has a definitive break rate throughout the country. This is perfectly normal, given that the proportion of French vehicles running on diesel is almost **53%**.",
   "id": "83d0ecb144d7fa50"
  },
  {
   "metadata": {},
   "cell_type": "code",
   "source": [
    "heatmap_data = merged_df[['code_departement', 'E10_shortage_percentage', 'E85_shortage_percentage', \n",
    "                          'GPLc_shortage_percentage', 'Gazole_shortage_percentage', \n",
    "                          'SP95_shortage_percentage', 'SP98_shortage_percentage']]\n",
    "\n",
    "heatmap_data.set_index('code_departement', inplace=True)"
   ],
   "id": "d0aaebf0b4d861b7",
   "outputs": [],
   "execution_count": null
  },
  {
   "metadata": {},
   "cell_type": "code",
   "source": [
    "\n",
    "fig = px.imshow(heatmap_data.T,  ### Transpose to get the fuel types on the X axis\n",
    "                labels=dict(x=\"Department Code\", y=\"Fuel Type\", color=\"Shortage (%)\"),\n",
    "                color_continuous_scale=\"Viridis\",\n",
    "                aspect=\"auto\",  ### Keep the axes proportional\n",
    "                title=\"Fuel Shortage Percentage by Department\")\n",
    "\n",
    "fig.show()"
   ],
   "id": "2a7cdbc0deb09d4e",
   "outputs": [],
   "execution_count": null
  },
  {
   "metadata": {},
   "cell_type": "markdown",
   "source": "As we can see, among the list of fuels, the one with the most definitive break is GPLc, with rates reaching 80% for some departments. And, as we saw earlier, the fuel with the lowest rate of permanent rupture is diesel.",
   "id": "8ab54c11ed14df94"
  },
  {
   "metadata": {},
   "cell_type": "code",
   "source": [
    "from folium.plugins import MarkerCluster\n",
    "\n",
    "### Setting up the map\n",
    "m = folium.Map(location=[46.603354, 1.888334], zoom_start=6)\n",
    "\n",
    "### Creating a marker cluster\n",
    "marker_cluster = MarkerCluster().add_to(m)\n",
    "\n",
    "### Add marker to cluster\n",
    "for i, row in df.iterrows():\n",
    "    folium.Marker(\n",
    "        location=row['geom'].split(','),\n",
    "        popup=f\"{row['ville']} : \\n {row['e10_prix']}€/L\",\n",
    "        icon=folium.Icon(color=\"blue\", icon=\"info-sign\")\n",
    "    ).add_to(marker_cluster)\n",
    "\n",
    "m\n"
   ],
   "id": "f48ce3b29d03c80a",
   "outputs": [],
   "execution_count": null
  },
  {
   "metadata": {},
   "cell_type": "markdown",
   "source": "# Study of the distribution of gas stations",
   "id": "1b188db584f570ec"
  },
  {
   "metadata": {},
   "cell_type": "markdown",
   "source": "Now we'll look at the breakdown of gas stations by department. In other words, our data takes into account the road network in two categories: roads and motorways, and will enable us to see where the main sales outlets are located.",
   "id": "6b12b7f5ab89a1b0"
  },
  {
   "metadata": {},
   "cell_type": "code",
   "source": [
    "test = pd.crosstab(df['code_departement'], df['pop'])\n",
    "\n",
    "### Computation for each category\n",
    "pop_total = test.sum()\n",
    "\n",
    "test"
   ],
   "id": "63e77b43f5b0e32a",
   "outputs": [],
   "execution_count": null
  },
  {
   "metadata": {},
   "cell_type": "code",
   "source": [
    "fig = px.pie(\n",
    "    names=pop_total.index,\n",
    "    values=pop_total.values,\n",
    "    title=\"Distribution of populations by type\"\n",
    ")\n",
    "\n",
    "fig.show()"
   ],
   "id": "561c59957c81b7cd",
   "outputs": [],
   "execution_count": null
  },
  {
   "metadata": {},
   "cell_type": "markdown",
   "source": [
    "As we can see, **95.5%** of service stations are located on roadsides, which is normal in the case of towns and cities, given that most motorists travel in towns and cities: more traffic means more turnover for the station owners. In particular, there are far more needs in town than on the motorways: going to work or shopping, so there are far more service stations in town.\n",
    "Whereas **4.5%** of service stations are located on the edge of France's motorways. That's a total of 453 service stations located along motorways throughout the country. Excluding holiday periods, this means fewer people passing through, and therefore less need."
   ],
   "id": "3749bc282152fe08"
  },
  {
   "metadata": {},
   "cell_type": "markdown",
   "source": "### Autre analyse",
   "id": "d2508cee01d1003c"
  },
  {
   "metadata": {},
   "cell_type": "code",
   "source": "df.head()",
   "id": "cfe3ac7b8d378f9d",
   "outputs": [],
   "execution_count": null
  },
  {
   "metadata": {},
   "cell_type": "code",
   "source": "",
   "id": "ce98f3abedd83ae9",
   "outputs": [],
   "execution_count": null
  }
 ],
 "metadata": {
  "kernelspec": {
   "display_name": "Python 3 (ipykernel)",
   "language": "python",
   "name": "python3"
  },
  "language_info": {
   "codemirror_mode": {
    "name": "ipython",
    "version": 3
   },
   "file_extension": ".py",
   "mimetype": "text/x-python",
   "name": "python",
   "nbconvert_exporter": "python",
   "pygments_lexer": "ipython3",
   "version": "3.12.4"
  }
 },
 "nbformat": 4,
 "nbformat_minor": 5
}
